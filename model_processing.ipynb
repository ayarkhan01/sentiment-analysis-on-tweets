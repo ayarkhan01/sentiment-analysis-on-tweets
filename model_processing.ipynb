{
 "cells": [
  {
   "cell_type": "code",
   "execution_count": 19,
   "metadata": {},
   "outputs": [],
   "source": [
    "import pandas as pd\n",
    "from sklearn.feature_extraction.text import CountVectorizer"
   ]
  },
  {
   "cell_type": "code",
   "execution_count": 20,
   "metadata": {},
   "outputs": [
    {
     "name": "stderr",
     "output_type": "stream",
     "text": [
      "[nltk_data] Downloading package stopwords to\n",
      "[nltk_data]     /home/ayarkhan01/nltk_data...\n",
      "[nltk_data]   Package stopwords is already up-to-date!\n"
     ]
    },
    {
     "data": {
      "text/plain": [
       "True"
      ]
     },
     "execution_count": 20,
     "metadata": {},
     "output_type": "execute_result"
    }
   ],
   "source": [
    "import nltk\n",
    "nltk.download('stopwords')"
   ]
  },
  {
   "cell_type": "code",
   "execution_count": 21,
   "metadata": {},
   "outputs": [],
   "source": [
    "from sklearn.feature_extraction.text import CountVectorizer\n",
    "from nltk.corpus import stopwords\n",
    "\n",
    "# Load stop words and convert to list\n",
    "stop_words = list(stopwords.words('english'))\n",
    "\n",
    "# Create a CountVectorizer object with stop words\n",
    "vectorizer = CountVectorizer(stop_words=stop_words)"
   ]
  },
  {
   "cell_type": "code",
   "execution_count": 22,
   "metadata": {},
   "outputs": [
    {
     "name": "stderr",
     "output_type": "stream",
     "text": [
      "/home/ayarkhan01/Desktop/Projects/Project 2/.venv/lib/python3.10/site-packages/sklearn/base.py:376: InconsistentVersionWarning: Trying to unpickle estimator MultinomialNB from version 1.5.0 when using version 1.4.1.post1. This might lead to breaking code or invalid results. Use at your own risk. For more info please refer to:\n",
      "https://scikit-learn.org/stable/model_persistence.html#security-maintainability-limitations\n",
      "  warnings.warn(\n"
     ]
    }
   ],
   "source": [
    "from joblib import load\n",
    "\n",
    "model = load('multinomial_nb_model.joblib')\n"
   ]
  },
  {
   "cell_type": "code",
   "execution_count": null,
   "metadata": {},
   "outputs": [],
   "source": [
    "data_imported= pd.read_csv('tweets.csv')"
   ]
  },
  {
   "cell_type": "code",
   "execution_count": 24,
   "metadata": {},
   "outputs": [
    {
     "data": {
      "text/html": [
       "<div>\n",
       "<style scoped>\n",
       "    .dataframe tbody tr th:only-of-type {\n",
       "        vertical-align: middle;\n",
       "    }\n",
       "\n",
       "    .dataframe tbody tr th {\n",
       "        vertical-align: top;\n",
       "    }\n",
       "\n",
       "    .dataframe thead th {\n",
       "        text-align: right;\n",
       "    }\n",
       "</style>\n",
       "<table border=\"1\" class=\"dataframe\">\n",
       "  <thead>\n",
       "    <tr style=\"text-align: right;\">\n",
       "      <th></th>\n",
       "      <th>User ID</th>\n",
       "      <th>Tweet</th>\n",
       "      <th>Date</th>\n",
       "    </tr>\n",
       "  </thead>\n",
       "  <tbody>\n",
       "    <tr>\n",
       "      <th>0</th>\n",
       "      <td>761001004091400192</td>\n",
       "      <td>🚨BREAKING🚨\\n\\nAPPLE $AAPL GETS A PRICE RAISE F...</td>\n",
       "      <td>2024-06-20 10:25:55+00:00</td>\n",
       "    </tr>\n",
       "    <tr>\n",
       "      <th>1</th>\n",
       "      <td>1089978712685273090</td>\n",
       "      <td>Why Apple's Strategy for Artificial Intelligen...</td>\n",
       "      <td>2024-06-20 10:21:33+00:00</td>\n",
       "    </tr>\n",
       "    <tr>\n",
       "      <th>2</th>\n",
       "      <td>1669688122064420866</td>\n",
       "      <td>شركة أميانتيت العربية السعودية (https://t.co/x...</td>\n",
       "      <td>2024-06-20 10:20:38+00:00</td>\n",
       "    </tr>\n",
       "    <tr>\n",
       "      <th>3</th>\n",
       "      <td>120140442</td>\n",
       "      <td>Why Apple's Strategy for Artificial Intelligen...</td>\n",
       "      <td>2024-06-20 10:13:05+00:00</td>\n",
       "    </tr>\n",
       "    <tr>\n",
       "      <th>4</th>\n",
       "      <td>1492239884672765954</td>\n",
       "      <td>“ I don’t like the stock market because capita...</td>\n",
       "      <td>2024-06-20 10:09:14+00:00</td>\n",
       "    </tr>\n",
       "    <tr>\n",
       "      <th>...</th>\n",
       "      <td>...</td>\n",
       "      <td>...</td>\n",
       "      <td>...</td>\n",
       "    </tr>\n",
       "    <tr>\n",
       "      <th>95</th>\n",
       "      <td>1601683238</td>\n",
       "      <td>as NY there to keep up with goings on World Mo...</td>\n",
       "      <td>2024-06-19 22:26:01+00:00</td>\n",
       "    </tr>\n",
       "    <tr>\n",
       "      <th>96</th>\n",
       "      <td>174853</td>\n",
       "      <td>@ID_AA_Carmack See also, bought a lot of Apple...</td>\n",
       "      <td>2024-06-19 22:25:26+00:00</td>\n",
       "    </tr>\n",
       "    <tr>\n",
       "      <th>97</th>\n",
       "      <td>1798974061558616064</td>\n",
       "      <td>🚨BREAKING: @nvidia , a leader in AI chips and ...</td>\n",
       "      <td>2024-06-19 22:19:05+00:00</td>\n",
       "    </tr>\n",
       "    <tr>\n",
       "      <th>98</th>\n",
       "      <td>1242781069</td>\n",
       "      <td>Market summary on $APPLE stock as of today. ht...</td>\n",
       "      <td>2024-06-19 22:18:45+00:00</td>\n",
       "    </tr>\n",
       "    <tr>\n",
       "      <th>99</th>\n",
       "      <td>1740862120626110464</td>\n",
       "      <td>@RahulSetty_ I thought Apple Pay integration w...</td>\n",
       "      <td>2024-06-19 22:17:56+00:00</td>\n",
       "    </tr>\n",
       "  </tbody>\n",
       "</table>\n",
       "<p>100 rows × 3 columns</p>\n",
       "</div>"
      ],
      "text/plain": [
       "                User ID                                              Tweet  \\\n",
       "0    761001004091400192  🚨BREAKING🚨\\n\\nAPPLE $AAPL GETS A PRICE RAISE F...   \n",
       "1   1089978712685273090  Why Apple's Strategy for Artificial Intelligen...   \n",
       "2   1669688122064420866  شركة أميانتيت العربية السعودية (https://t.co/x...   \n",
       "3             120140442  Why Apple's Strategy for Artificial Intelligen...   \n",
       "4   1492239884672765954  “ I don’t like the stock market because capita...   \n",
       "..                  ...                                                ...   \n",
       "95           1601683238  as NY there to keep up with goings on World Mo...   \n",
       "96               174853  @ID_AA_Carmack See also, bought a lot of Apple...   \n",
       "97  1798974061558616064  🚨BREAKING: @nvidia , a leader in AI chips and ...   \n",
       "98           1242781069  Market summary on $APPLE stock as of today. ht...   \n",
       "99  1740862120626110464  @RahulSetty_ I thought Apple Pay integration w...   \n",
       "\n",
       "                         Date  \n",
       "0   2024-06-20 10:25:55+00:00  \n",
       "1   2024-06-20 10:21:33+00:00  \n",
       "2   2024-06-20 10:20:38+00:00  \n",
       "3   2024-06-20 10:13:05+00:00  \n",
       "4   2024-06-20 10:09:14+00:00  \n",
       "..                        ...  \n",
       "95  2024-06-19 22:26:01+00:00  \n",
       "96  2024-06-19 22:25:26+00:00  \n",
       "97  2024-06-19 22:19:05+00:00  \n",
       "98  2024-06-19 22:18:45+00:00  \n",
       "99  2024-06-19 22:17:56+00:00  \n",
       "\n",
       "[100 rows x 3 columns]"
      ]
     },
     "execution_count": 24,
     "metadata": {},
     "output_type": "execute_result"
    }
   ],
   "source": [
    "data_imported"
   ]
  },
  {
   "cell_type": "code",
   "execution_count": 25,
   "metadata": {},
   "outputs": [],
   "source": [
    "data = data_imported[['Tweet']].copy()\n",
    "data.columns = ['sentence']"
   ]
  },
  {
   "cell_type": "code",
   "execution_count": 26,
   "metadata": {},
   "outputs": [
    {
     "data": {
      "text/html": [
       "<div>\n",
       "<style scoped>\n",
       "    .dataframe tbody tr th:only-of-type {\n",
       "        vertical-align: middle;\n",
       "    }\n",
       "\n",
       "    .dataframe tbody tr th {\n",
       "        vertical-align: top;\n",
       "    }\n",
       "\n",
       "    .dataframe thead th {\n",
       "        text-align: right;\n",
       "    }\n",
       "</style>\n",
       "<table border=\"1\" class=\"dataframe\">\n",
       "  <thead>\n",
       "    <tr style=\"text-align: right;\">\n",
       "      <th></th>\n",
       "      <th>sentence</th>\n",
       "    </tr>\n",
       "  </thead>\n",
       "  <tbody>\n",
       "    <tr>\n",
       "      <th>0</th>\n",
       "      <td>🚨BREAKING🚨\\n\\nAPPLE $AAPL GETS A PRICE RAISE F...</td>\n",
       "    </tr>\n",
       "    <tr>\n",
       "      <th>1</th>\n",
       "      <td>Why Apple's Strategy for Artificial Intelligen...</td>\n",
       "    </tr>\n",
       "    <tr>\n",
       "      <th>2</th>\n",
       "      <td>شركة أميانتيت العربية السعودية (https://t.co/x...</td>\n",
       "    </tr>\n",
       "    <tr>\n",
       "      <th>3</th>\n",
       "      <td>Why Apple's Strategy for Artificial Intelligen...</td>\n",
       "    </tr>\n",
       "    <tr>\n",
       "      <th>4</th>\n",
       "      <td>“ I don’t like the stock market because capita...</td>\n",
       "    </tr>\n",
       "    <tr>\n",
       "      <th>...</th>\n",
       "      <td>...</td>\n",
       "    </tr>\n",
       "    <tr>\n",
       "      <th>95</th>\n",
       "      <td>as NY there to keep up with goings on World Mo...</td>\n",
       "    </tr>\n",
       "    <tr>\n",
       "      <th>96</th>\n",
       "      <td>@ID_AA_Carmack See also, bought a lot of Apple...</td>\n",
       "    </tr>\n",
       "    <tr>\n",
       "      <th>97</th>\n",
       "      <td>🚨BREAKING: @nvidia , a leader in AI chips and ...</td>\n",
       "    </tr>\n",
       "    <tr>\n",
       "      <th>98</th>\n",
       "      <td>Market summary on $APPLE stock as of today. ht...</td>\n",
       "    </tr>\n",
       "    <tr>\n",
       "      <th>99</th>\n",
       "      <td>@RahulSetty_ I thought Apple Pay integration w...</td>\n",
       "    </tr>\n",
       "  </tbody>\n",
       "</table>\n",
       "<p>100 rows × 1 columns</p>\n",
       "</div>"
      ],
      "text/plain": [
       "                                             sentence\n",
       "0   🚨BREAKING🚨\\n\\nAPPLE $AAPL GETS A PRICE RAISE F...\n",
       "1   Why Apple's Strategy for Artificial Intelligen...\n",
       "2   شركة أميانتيت العربية السعودية (https://t.co/x...\n",
       "3   Why Apple's Strategy for Artificial Intelligen...\n",
       "4   “ I don’t like the stock market because capita...\n",
       "..                                                ...\n",
       "95  as NY there to keep up with goings on World Mo...\n",
       "96  @ID_AA_Carmack See also, bought a lot of Apple...\n",
       "97  🚨BREAKING: @nvidia , a leader in AI chips and ...\n",
       "98  Market summary on $APPLE stock as of today. ht...\n",
       "99  @RahulSetty_ I thought Apple Pay integration w...\n",
       "\n",
       "[100 rows x 1 columns]"
      ]
     },
     "execution_count": 26,
     "metadata": {},
     "output_type": "execute_result"
    }
   ],
   "source": [
    "data"
   ]
  },
  {
   "cell_type": "code",
   "execution_count": 27,
   "metadata": {},
   "outputs": [
    {
     "name": "stderr",
     "output_type": "stream",
     "text": [
      "/home/ayarkhan01/Desktop/Projects/Project 2/.venv/lib/python3.10/site-packages/sklearn/base.py:376: InconsistentVersionWarning: Trying to unpickle estimator CountVectorizer from version 1.5.0 when using version 1.4.1.post1. This might lead to breaking code or invalid results. Use at your own risk. For more info please refer to:\n",
      "https://scikit-learn.org/stable/model_persistence.html#security-maintainability-limitations\n",
      "  warnings.warn(\n"
     ]
    }
   ],
   "source": [
    "from joblib import load\n",
    "\n",
    "vectorizer = load('vectorizer.joblib')\n"
   ]
  },
  {
   "cell_type": "code",
   "execution_count": 28,
   "metadata": {},
   "outputs": [],
   "source": [
    "predicted_sentiments = []\n",
    "\n",
    "# Iterate over each sentence in the DataFrame\n",
    "for sentence in data['sentence']:\n",
    "    # Transform the sentence to vector\n",
    "    sentence_vector = vectorizer.transform([sentence])\n",
    "    # Predict sentiment\n",
    "    predicted_sentiment = model.predict(sentence_vector)\n",
    "    # Append the predicted sentiment to the list\n",
    "    predicted_sentiments.append(predicted_sentiment[0])\n",
    "\n",
    "# Add the predictions as a new column to the DataFrame\n",
    "data['predicted_sentiment'] = predicted_sentiments"
   ]
  },
  {
   "cell_type": "code",
   "execution_count": 29,
   "metadata": {},
   "outputs": [],
   "source": [
    "html_table = data.to_html()"
   ]
  },
  {
   "cell_type": "code",
   "execution_count": 30,
   "metadata": {},
   "outputs": [
    {
     "name": "stdout",
     "output_type": "stream",
     "text": [
      "The overall sentiment for the day is: Positive\n"
     ]
    }
   ],
   "source": [
    "# Count the number of positive and negative sentiments\n",
    "sentiment_counts = data['predicted_sentiment'].value_counts()\n",
    "html_sentiment_counts = sentiment_counts.to_frame().to_html()\n",
    "\n",
    "if 'Positive' in sentiment_counts and 'Negative' in sentiment_counts:\n",
    "    if sentiment_counts['Positive'] > sentiment_counts['Negative']:\n",
    "        overall_sentiment = 'Positive'\n",
    "    elif sentiment_counts['Positive'] == sentiment_counts['Negative']:\n",
    "        overall_sentiment = 'Neutral'\n",
    "    else:\n",
    "        overall_sentiment = 'Negative'\n",
    "elif 'Positive' in sentiment_counts:\n",
    "    overall_sentiment = 'Positive'\n",
    "else:\n",
    "    overall_sentiment = 'Negative'\n",
    "\n",
    "print(f\"The overall sentiment for the day is: {overall_sentiment}\")\n",
    "\n",
    "\n"
   ]
  },
  {
   "cell_type": "code",
   "execution_count": 31,
   "metadata": {},
   "outputs": [],
   "source": [
    "def color_sentiment(val):\n",
    "    color = 'green' if val == 'Positive' else 'red'\n",
    "    return f'color: {color}'"
   ]
  },
  {
   "cell_type": "code",
   "execution_count": 32,
   "metadata": {},
   "outputs": [
    {
     "name": "stderr",
     "output_type": "stream",
     "text": [
      "/tmp/ipykernel_332/1255149020.py:1: FutureWarning: Styler.applymap has been deprecated. Use Styler.map instead.\n",
      "  styled_data = data.style.applymap(color_sentiment, subset=['predicted_sentiment'])\n"
     ]
    }
   ],
   "source": [
    "styled_data = data.style.applymap(color_sentiment, subset=['predicted_sentiment'])"
   ]
  },
  {
   "cell_type": "code",
   "execution_count": 33,
   "metadata": {},
   "outputs": [],
   "source": [
    "html_data = styled_data.to_html()"
   ]
  },
  {
   "cell_type": "code",
   "execution_count": 34,
   "metadata": {},
   "outputs": [],
   "source": [
    "# Determine the background color based on sentiment\n",
    "bg_color = 'green' if overall_sentiment == 'Positive' else 'red'"
   ]
  },
  {
   "cell_type": "code",
   "execution_count": 35,
   "metadata": {},
   "outputs": [],
   "source": [
    "html_content = f\"\"\"\n",
    "<!DOCTYPE html>\n",
    "<html>\n",
    "<head>\n",
    "    <title>Analysis Results</title>\n",
    "    <style>\n",
    "        body {{\n",
    "            font-family: Arial, sans-serif;\n",
    "            background: #f4f4f4;\n",
    "            margin: 40px;\n",
    "            color: #333;\n",
    "        }}\n",
    "        table {{\n",
    "            border-collapse: collapse;\n",
    "            width: 100%;\n",
    "            margin-bottom: 20px;\n",
    "        }}\n",
    "        th, td {{\n",
    "            border: 1px solid #ddd;\n",
    "            padding: 8px;\n",
    "            text-align: left;\n",
    "        }}\n",
    "        th {{\n",
    "            background-color: #3b81e2;\n",
    "            color: white;\n",
    "        }}\n",
    "        tr:nth-child(even){{background-color: #f2f2f2}}\n",
    "        .sentiment-header {{\n",
    "            background-color: {bg_color};  /* Dynamic background color */\n",
    "            color: white; /* White text for better contrast */\n",
    "            padding: 10px;\n",
    "        }}\n",
    "    </style>\n",
    "</head>\n",
    "<body>\n",
    "    <h1>Analysis Results</h1>\n",
    "    <h2>Sentiment Counts</h2>\n",
    "    {html_sentiment_counts}\n",
    "    <h2 class='sentiment-header'>Overall Sentiment for the Day: {overall_sentiment}</h2>  <!-- Styled based on sentiment -->\n",
    "    <h2>Data Table</h2>\n",
    "    {html_data}  <!-- Correctly include the styled data table -->\n",
    "</body>\n",
    "</html>\n",
    "\"\"\"\n",
    "\n",
    "# You can now save or display this HTML content\n"
   ]
  },
  {
   "cell_type": "code",
   "execution_count": 36,
   "metadata": {},
   "outputs": [
    {
     "name": "stdout",
     "output_type": "stream",
     "text": [
      "HTML file has been created and saved as 'output.html'.\n"
     ]
    }
   ],
   "source": [
    "\n",
    "# Save the HTML content to a file\n",
    "with open('output.html', 'w') as f:\n",
    "    f.write(html_content)\n",
    "\n",
    "# Print a confirmation\n",
    "print(\"HTML file has been created and saved as 'output.html'.\")\n"
   ]
  }
 ],
 "metadata": {
  "kernelspec": {
   "display_name": "Python 3",
   "language": "python",
   "name": "python3"
  },
  "language_info": {
   "codemirror_mode": {
    "name": "ipython",
    "version": 3
   },
   "file_extension": ".py",
   "mimetype": "text/x-python",
   "name": "python",
   "nbconvert_exporter": "python",
   "pygments_lexer": "ipython3",
   "version": "3.10.12"
  }
 },
 "nbformat": 4,
 "nbformat_minor": 2
}
